{
 "cells": [
  {
   "attachments": {},
   "cell_type": "markdown",
   "metadata": {},
   "source": [
    "Here I will run through the RDKIT tutorials from the RDKIT Github website and the 'Getting Started with Python' page. These can be found here; https://github.com/rdkit/rdkit-tutorials/tree/master/notebooks, and here; https://www.rdkit.org/docs/GettingStartedInPython.html. Whilst the majority of the content in this notebook is copied directly from these pages I have included some extra notes that may be beneficial to newer users/data scientists.\n",
    "\n",
    "Extra recipes can be found at the RDKIT cookbook, https://www.rdkit.org/docs/Cookbook.html. "
   ]
  },
  {
   "attachments": {},
   "cell_type": "markdown",
   "metadata": {},
   "source": [
    "RDKIT has been intalled within conda env my-rdkit-env - ensure this is the environment activated for these tutorials."
   ]
  },
  {
   "attachments": {},
   "cell_type": "markdown",
   "metadata": {},
   "source": [
    "Update -- I have used this notebook to do some of the tutorials, and also to work on molecules that are of interest to me. The kernel should be set to 'docking-env' as this has all pf the correct dependancies installed."
   ]
  },
  {
   "attachments": {},
   "cell_type": "markdown",
   "metadata": {},
   "source": [
    "# Reading and writing simple molecules "
   ]
  },
  {
   "cell_type": "code",
   "execution_count": 3,
   "metadata": {},
   "outputs": [],
   "source": [
    "# These are the libraries from rdkit that are required for the next steps.\n",
    "\n",
    "from rdkit import Chem\n",
    "from rdkit.Chem.Draw import IPythonConsole\n",
    "from rdkit.Chem import Draw"
   ]
  },
  {
   "cell_type": "code",
   "execution_count": 3,
   "metadata": {},
   "outputs": [],
   "source": [
    "# Paths to data files - note that '..' means parent, so when the directory is on GH this is telling the computer to move out of the notebooks directory and into 'data' or 'results'.\n",
    "\n",
    "import os\n",
    "\n",
    "DATAPATH = '../data'\n",
    "RESULTSPATH = '../results'\n",
    "\n",
    "\n",
    "myfile = os.path.join(DATAPATH, \"int_folder\", \"myfile.csv\") #this is just an example"
   ]
  },
  {
   "cell_type": "code",
   "execution_count": 2,
   "metadata": {},
   "outputs": [
    {
     "name": "stdout",
     "output_type": "stream",
     "text": [
      "Tue Feb 14 17:30:01 2023\n"
     ]
    }
   ],
   "source": [
    "# This is a python module that provides various time-related functions.\n",
    "\n",
    "import time\n",
    "print(time.asctime())"
   ]
  },
  {
   "attachments": {},
   "cell_type": "markdown",
   "metadata": {},
   "source": [
    "The above is a python module that provides various time-related functions."
   ]
  },
  {
   "attachments": {},
   "cell_type": "markdown",
   "metadata": {},
   "source": [
    "## Working with SMILES\n",
    "\n",
    "Using the MolFromSmiles command is the easiest way to portray a smiles string as a 2D molecule."
   ]
  },
  {
   "cell_type": "code",
   "execution_count": 3,
   "metadata": {},
   "outputs": [
    {
     "data": {
      "image/png": "[encoded data removed]",
      "text/plain": [
       "<rdkit.Chem.rdchem.Mol at 0x7f0017a51460>"
      ]
     },
     "execution_count": 3,
     "metadata": {},
     "output_type": "execute_result"
    }
   ],
   "source": [
    "a = Chem.MolFromSmiles('COc1ccc2c(c1)[nH]c(n2)[S@@](=O)Cc1ncc(c(c1C)OC)C')\n",
    "\n",
    "a"
   ]
  },
  {
   "cell_type": "code",
   "execution_count": 4,
   "metadata": {},
   "outputs": [
    {
     "data": {
      "text/plain": [
       "rdkit.Chem.rdchem.Mol"
      ]
     },
     "execution_count": 4,
     "metadata": {},
     "output_type": "execute_result"
    }
   ],
   "source": [
    "type(a)"
   ]
  },
  {
   "attachments": {},
   "cell_type": "markdown",
   "metadata": {},
   "source": [
    "a = is defining m as 'Molecule A'.\n",
    "a at the end of the code performs the function (prints the smiles string in 2D)."
   ]
  },
  {
   "cell_type": "code",
   "execution_count": 5,
   "metadata": {},
   "outputs": [
    {
     "data": {
      "image/png": "[encoded data removed]",
      "text/plain": [
       "<rdkit.Chem.rdchem.Mol at 0x7f0017a51700>"
      ]
     },
     "execution_count": 5,
     "metadata": {},
     "output_type": "execute_result"
    }
   ],
   "source": [
    "b = Chem.MolFromSmiles('Nc1ccc(C(O)CNCCc2ccccc2)cc1O')\n",
    "\n",
    "b"
   ]
  },
  {
   "attachments": {},
   "cell_type": "markdown",
   "metadata": {},
   "source": [
    "The compound above was found in a Chembl similarity search against a compound that is itself similar to a reaction intermediate. I am interested in this intermediate as I am attempting to inhibit the enzyme responsible for its production. This compound, whens ubjected to the eos tb inhibition model (eos46ev), returned a 77 % chance of inhibiting M. tuberculosis, and is therefore a compound of interest."
   ]
  },
  {
   "attachments": {},
   "cell_type": "markdown",
   "metadata": {},
   "source": [
    "You can also read from a smiles string and convert to molfile format, and vice versa:"
   ]
  },
  {
   "cell_type": "code",
   "execution_count": 6,
   "metadata": {},
   "outputs": [
    {
     "name": "stdout",
     "output_type": "stream",
     "text": [
      "\n",
      "     RDKit          2D\n",
      "\n",
      " 25 28  0  0  0  0  0  0  0  0999 V2000\n",
      "   -4.3909   -5.4663    0.0000 C   0  0  0  0  0  0  0  0  0  0  0  0\n",
      "   -3.3279   -4.4080    0.0000 C   0  0  0  0  0  0  0  0  0  0  0  0\n",
      "   -2.0130   -5.1298    0.0000 C   0  0  0  0  0  0  0  0  0  0  0  0\n",
      "   -0.5166   -5.0261    0.0000 C   0  0  0  0  0  0  0  0  0  0  0  0\n",
      "    0.0045   -6.4327    0.0000 C   0  0  0  0  0  0  0  0  0  0  0  0\n",
      "    0.6862   -4.1299    0.0000 C   0  0  0  0  0  0  0  0  0  0  0  0\n",
      "    1.8850   -5.0315    0.0000 O   0  0  0  0  0  0  0  0  0  0  0  0\n",
      "    1.2135   -2.7256    0.0000 C   0  0  0  0  0  0  0  0  0  0  0  0\n",
      "    0.7500   -1.2990    0.0000 C   0  0  0  0  0  0  0  0  0  0  0  0\n",
      "    1.5000    0.0000    0.0000 O   0  0  0  0  0  0  0  0  0  0  0  0\n",
      "    0.7500    1.2990    0.0000 C   0  0  0  0  0  0  0  0  0  0  0  0\n",
      "   -0.7500    1.2990    0.0000 C   0  0  0  0  0  0  0  0  0  0  0  0\n",
      "   -1.3361    2.6798    0.0000 C   0  0  0  0  0  0  0  0  0  0  0  0\n",
      "   -1.5000    0.0000    0.0000 C   0  0  0  0  0  0  0  0  0  0  0  0\n",
      "   -0.7500   -1.2990    0.0000 C   0  0  0  0  0  0  0  0  0  0  0  0\n",
      "   -1.2135   -2.7256    0.0000 O   0  0  0  0  0  0  0  0  0  0  0  0\n",
      "    0.0000   -3.6073    0.0000 C   0  0  0  0  0  0  0  0  0  0  0  0\n",
      "   -0.1929   -4.3808    0.0000 O   0  0  0  0  0  0  0  0  0  0  0  0\n",
      "   -1.5000    0.0000    0.0000 C   0  0  0  0  0  0  0  0  0  0  0  0\n",
      "   -3.0320   -0.3951    0.0000 C   0  0  0  0  0  0  0  0  0  0  0  0\n",
      "   -3.9335   -1.5940    0.0000 C   0  0  0  0  0  0  0  0  0  0  0  0\n",
      "   -4.0439   -3.0899    0.0000 C   0  0  0  0  0  0  0  0  0  0  0  0\n",
      "   -5.5103   -3.4055    0.0000 O   0  0  0  0  0  0  0  0  0  0  0  0\n",
      "   -0.7500    1.2990    0.0000 C   0  0  0  0  0  0  0  0  0  0  0  0\n",
      "   -1.6528    2.4970    0.0000 O   0  0  0  0  0  0  0  0  0  0  0  0\n",
      "  2  1  1  6\n",
      "  2  3  1  0\n",
      "  3  4  1  0\n",
      "  4  5  1  6\n",
      "  4  6  1  0\n",
      "  6  7  2  0\n",
      "  6  8  1  0\n",
      "  8  9  2  0\n",
      "  9 10  1  0\n",
      " 10 11  1  0\n",
      " 11 12  1  0\n",
      " 12 13  1  1\n",
      " 12 14  1  0\n",
      " 14 15  1  0\n",
      " 15 16  1  6\n",
      " 16 17  1  0\n",
      " 17 18  2  0\n",
      " 15 19  1  0\n",
      " 19 20  1  0\n",
      " 20 21  2  0\n",
      " 21 22  1  0\n",
      " 22 23  2  0\n",
      " 19 24  1  0\n",
      " 24 25  1  1\n",
      " 22  2  1  0\n",
      " 17  8  1  0\n",
      " 15  9  1  0\n",
      " 24 11  1  0\n",
      "M  END\n",
      "\n"
     ]
    },
    {
     "data": {
      "image/png": "[encoded data removed]",
      "text/plain": [
       "<rdkit.Chem.rdchem.Mol at 0x7f0017a51380>"
      ]
     },
     "execution_count": 6,
     "metadata": {},
     "output_type": "execute_result"
    }
   ],
   "source": [
    "c = Chem.MolFromSmiles('C[C@H]1C[C@@H](C)C(=O)C2=C3OC4[C@H](C)C[C@@]3(OC2=O)C(/C=C/C1=O)[C@H]4O')\n",
    "print(Chem.MolToMolBlock(c))\n",
    "c"
   ]
  },
  {
   "attachments": {},
   "cell_type": "markdown",
   "metadata": {},
   "source": [
    "The above shows the smiles string converted to a molfile and then printed in 2D. The compound in question is abyssomicin C."
   ]
  },
  {
   "cell_type": "code",
   "execution_count": 7,
   "metadata": {},
   "outputs": [
    {
     "data": {
      "text/plain": [
       "'C[C@@H]1C[C@H](C)C(=O)/C=C\\\\C2[C@@H](O)C3OC4=C(C(=O)O[C@@]42C[C@H]3C)C1=O'"
      ]
     },
     "execution_count": 7,
     "metadata": {},
     "output_type": "execute_result"
    }
   ],
   "source": [
    "d = Chem.MolFromMolFile('/home/lyndenrooms/Ersilia_Collab_2023/Compound_lists/abyCmol.mol')\n",
    "Chem.MolToSmiles(d)\n"
   ]
  },
  {
   "cell_type": "code",
   "execution_count": 7,
   "metadata": {},
   "outputs": [
    {
     "data": {
      "image/png": "[encoded data removed]",
      "text/plain": [
       "<rdkit.Chem.rdchem.Mol at 0x7f40b84df7d0>"
      ]
     },
     "execution_count": 7,
     "metadata": {},
     "output_type": "execute_result"
    }
   ],
   "source": [
    "d"
   ]
  },
  {
   "attachments": {},
   "cell_type": "markdown",
   "metadata": {},
   "source": [
    "The above shows the conversion of a molfile to smiles and the subsequent printing of the molfile in 2D."
   ]
  },
  {
   "attachments": {},
   "cell_type": "markdown",
   "metadata": {},
   "source": [
    "## Reading from a MOL file\n",
    "\n",
    "MOL files can be found on databases and downloaded/copied."
   ]
  },
  {
   "cell_type": "code",
   "execution_count": 8,
   "metadata": {},
   "outputs": [
    {
     "data": {
      "image/png": "[encoded data removed]",
      "text/plain": [
       "<rdkit.Chem.rdchem.Mol at 0x7f0017a51850>"
      ]
     },
     "execution_count": 8,
     "metadata": {},
     "output_type": "execute_result"
    }
   ],
   "source": [
    "phenolmol = \"\"\"phenol     \n",
    "RDKit          2D\n",
    "\n",
    "  7  7  0  0  0  0  0  0  0  0999 V2000\n",
    "   -2.0583   -0.9000    0.0000 O   0  0  0  0  0  0  0  0  0  0  0  0\n",
    "   -0.6208   -0.9000    0.0000 C   0  0  0  0  0  0  0  0  0  0  0  0\n",
    "    0.0792   -2.1500    0.0000 C   0  0  0  0  0  0  0  0  0  0  0  0\n",
    "    0.0792    0.3250    0.0000 C   0  0  0  0  0  0  0  0  0  0  0  0\n",
    "    1.5292    0.3250    0.0000 C   0  0  0  0  0  0  0  0  0  0  0  0\n",
    "    1.5292   -2.1500    0.0000 C   0  0  0  0  0  0  0  0  0  0  0  0\n",
    "    2.2375   -0.9000    0.0000 C   0  0  0  0  0  0  0  0  0  0  0  0\n",
    "  2  1  1  0\n",
    "  3  2  2  0\n",
    "  4  2  1  0\n",
    "  5  4  2  0\n",
    "  6  3  1  0\n",
    "  7  6  2  0\n",
    "  5  7  1  0\n",
    "M  END\n",
    "\"\"\"\n",
    "e = Chem.MolFromMolBlock(phenolmol)\n",
    "e"
   ]
  },
  {
   "attachments": {},
   "cell_type": "markdown",
   "metadata": {},
   "source": [
    "The above is the molfile of phenol from the Chembl database. Note how there are 3 x \" on the first line, follwoed by the name of the compound (this could be swapped for any compound identifier). There are also 3 x \" on the last line of the molfile. Phenolmol is defined. Chem.MolFomMolBlock is the command. m3 is defined and then executed."
   ]
  },
  {
   "cell_type": "code",
   "execution_count": 9,
   "metadata": {},
   "outputs": [
    {
     "data": {
      "text/plain": [
       "1"
      ]
     },
     "execution_count": 9,
     "metadata": {},
     "output_type": "execute_result"
    }
   ],
   "source": [
    "e.GetNumConformers()"
   ]
  },
  {
   "attachments": {},
   "cell_type": "markdown",
   "metadata": {},
   "source": [
    "The above shows that this compound, read from the molblock, has only one conformer. The conformer is 2D (as per the figure). "
   ]
  },
  {
   "cell_type": "code",
   "execution_count": 10,
   "metadata": {},
   "outputs": [
    {
     "data": {
      "text/plain": [
       "False"
      ]
     },
     "execution_count": 10,
     "metadata": {},
     "output_type": "execute_result"
    }
   ],
   "source": [
    "e.GetConformer().Is3D()"
   ]
  },
  {
   "attachments": {},
   "cell_type": "markdown",
   "metadata": {},
   "source": [
    "The above confirms the presence of a 2D conformer, rather than a 3D coformer.\n",
    "\n",
    "Here is the molfile of a 3D molecule:"
   ]
  },
  {
   "cell_type": "code",
   "execution_count": 11,
   "metadata": {},
   "outputs": [
    {
     "data": {
      "image/png": "[encoded data removed]",
      "text/plain": [
       "<rdkit.Chem.rdchem.Mol at 0x7f0017a517e0>"
      ]
     },
     "execution_count": 11,
     "metadata": {},
     "output_type": "execute_result"
    }
   ],
   "source": [
    "cyclopropanol3d ='''cyclopropanol-3D\n",
    "  Mrv1682210081607153D          \n",
    "\n",
    " 10 10  0  0  0  0            999 V2000\n",
    "    0.9159    1.2233    0.2286 C   0  0  1  0  0  0  0  0  0  0  0  0\n",
    "   -0.0738    1.2748   -0.9428 C   0  0  2  0  0  0  0  0  0  0  0  0\n",
    "   -0.3167    0.3104    0.2232 C   0  0  2  0  0  0  0  0  0  0  0  0\n",
    "   -1.3658    0.6623    1.1190 O   0  0  0  0  0  0  0  0  0  0  0  0\n",
    "    1.8730    0.7413    0.0155 H   0  0  0  0  0  0  0  0  0  0  0  0\n",
    "    0.8835    2.0739    0.9139 H   0  0  0  0  0  0  0  0  0  0  0  0\n",
    "    0.2747    0.8266   -1.8737 H   0  0  0  0  0  0  0  0  0  0  0  0\n",
    "   -0.7163    2.1557   -0.9817 H   0  0  0  0  0  0  0  0  0  0  0  0\n",
    "   -0.1264   -0.7446    0.0137 H   0  0  0  0  0  0  0  0  0  0  0  0\n",
    "   -1.1210    0.2486    1.9735 H   0  0  0  0  0  0  0  0  0  0  0  0\n",
    "  1  2  1  0  0  0  0\n",
    "  2  3  1  0  0  0  0\n",
    "  1  3  1  0  0  0  0\n",
    "  3  4  1  0  0  0  0\n",
    "  1  5  1  0  0  0  0\n",
    "  1  6  1  0  0  0  0\n",
    "  2  7  1  0  0  0  0\n",
    "  2  8  1  0  0  0  0\n",
    "  3  9  1  0  0  0  0\n",
    "  4 10  1  0  0  0  0\n",
    "M  END\n",
    "'''\n",
    "f = Chem.MolFromMolBlock(cyclopropanol3d)\n",
    "f"
   ]
  },
  {
   "attachments": {},
   "cell_type": "markdown",
   "metadata": {},
   "source": [
    "You can see the conformer is 3D due to the non-0 coordinates in the third column of the file."
   ]
  },
  {
   "cell_type": "code",
   "execution_count": 12,
   "metadata": {},
   "outputs": [
    {
     "data": {
      "text/plain": [
       "True"
      ]
     },
     "execution_count": 12,
     "metadata": {},
     "output_type": "execute_result"
    }
   ],
   "source": [
    "f.GetConformer().Is3D()"
   ]
  },
  {
   "attachments": {},
   "cell_type": "markdown",
   "metadata": {},
   "source": [
    "This confirms the above. To include hydrgoens on the structure we can disable the 'removeHs' command, which is the RDKIT default."
   ]
  },
  {
   "cell_type": "code",
   "execution_count": 13,
   "metadata": {},
   "outputs": [
    {
     "data": {
      "image/png": "[encoded data removed]",
      "text/plain": [
       "<rdkit.Chem.rdchem.Mol at 0x7f0017a51d20>"
      ]
     },
     "execution_count": 13,
     "metadata": {},
     "output_type": "execute_result"
    }
   ],
   "source": [
    "f_h = Chem.MolFromMolBlock(cyclopropanol3d,removeHs=False)\n",
    "f_h"
   ]
  },
  {
   "attachments": {},
   "cell_type": "markdown",
   "metadata": {},
   "source": [
    "It is also possible to read molfiles directly from a file, when the path is specified:\n"
   ]
  },
  {
   "cell_type": "code",
   "execution_count": 14,
   "metadata": {},
   "outputs": [
    {
     "data": {
      "image/png": "[encoded data removed]",
      "text/plain": [
       "<rdkit.Chem.rdchem.Mol at 0x7f0017a51e70>"
      ]
     },
     "execution_count": 14,
     "metadata": {},
     "output_type": "execute_result"
    }
   ],
   "source": [
    "abyC = Chem.MolFromMolFile('/home/lyndenrooms/Ersilia_Collab_2023/Compound_lists/abyCmol.mol')\n",
    "abyC"
   ]
  },
  {
   "attachments": {},
   "cell_type": "markdown",
   "metadata": {},
   "source": [
    "Here, the molfile of a compound (abyssomicin C) was downloaded from Chembl and loaded directly from the file."
   ]
  },
  {
   "attachments": {},
   "cell_type": "markdown",
   "metadata": {},
   "source": [
    "## Reading numerous molecules\n",
    "\n",
    "Reading sets of molecules requires the use of a supplier. "
   ]
  },
  {
   "cell_type": "code",
   "execution_count": 15,
   "metadata": {},
   "outputs": [
    {
     "name": "stdout",
     "output_type": "stream",
     "text": [
      "13\n",
      "22\n",
      "22\n",
      "11\n",
      "12\n",
      "32\n",
      "13\n",
      "13\n",
      "23\n",
      "13\n",
      "22\n",
      "11\n",
      "32\n",
      "12\n",
      "16\n",
      "13\n",
      "11\n",
      "13\n",
      "13\n",
      "17\n",
      "14\n",
      "11\n",
      "13\n",
      "12\n",
      "9\n",
      "13\n",
      "22\n",
      "13\n",
      "20\n"
     ]
    }
   ],
   "source": [
    "suppl = Chem.SDMolSupplier('/home/lyndenrooms/Ersilia_Collab_2023/Compound_lists/simcompounds.sdf')\n",
    "for mol in suppl:\n",
    "    print(mol.GetNumAtoms())"
   ]
  },
  {
   "attachments": {},
   "cell_type": "markdown",
   "metadata": {},
   "source": [
    "This shows the number of atoms present in each of the compounds from the SDF file. The sdf file 'simcompounds' was downloaded from Chembl from the following compound (similarity search >40 %):"
   ]
  },
  {
   "cell_type": "code",
   "execution_count": 16,
   "metadata": {},
   "outputs": [
    {
     "data": {
      "image/png": "[encoded data removed]",
      "text/plain": [
       "<rdkit.Chem.rdchem.Mol at 0x7f0017a52110>"
      ]
     },
     "execution_count": 16,
     "metadata": {},
     "output_type": "execute_result"
    }
   ],
   "source": [
    "sim = Chem.MolFromSmiles('Nc1ccc(C(O)O)cc1O')\n",
    "sim"
   ]
  },
  {
   "attachments": {},
   "cell_type": "markdown",
   "metadata": {},
   "source": [
    "The above was chosen as the reaction product of PabB (an enzyme I am interested in developing inhibitors against), is the following:"
   ]
  },
  {
   "cell_type": "code",
   "execution_count": 17,
   "metadata": {},
   "outputs": [
    {
     "data": {
      "image/png": "[encoded data removed]",
      "text/plain": [
       "<rdkit.Chem.rdchem.Mol at 0x7f0017a51bd0>"
      ]
     },
     "execution_count": 17,
     "metadata": {},
     "output_type": "execute_result"
    }
   ],
   "source": [
    "PabB_product = Chem.MolFromSmiles('C=C(OC1C=C(C(O)O)C=CC1N)C(O)O')\n",
    "PabB_product"
   ]
  },
  {
   "attachments": {},
   "cell_type": "markdown",
   "metadata": {},
   "source": [
    "This returns no similar results."
   ]
  },
  {
   "cell_type": "code",
   "execution_count": 18,
   "metadata": {},
   "outputs": [
    {
     "ename": "NameError",
     "evalue": "name 'os' is not defined",
     "output_type": "error",
     "traceback": [
      "\u001b[0;31m---------------------------------------------------------------------------\u001b[0m",
      "\u001b[0;31mNameError\u001b[0m                                 Traceback (most recent call last)",
      "Cell \u001b[0;32mIn[18], line 1\u001b[0m\n\u001b[0;32m----> 1\u001b[0m \u001b[39mwith\u001b[39;00m Chem\u001b[39m.\u001b[39mSDMolSupplier(os\u001b[39m.\u001b[39mpath\u001b[39m.\u001b[39mjoin(DATAPATH, \u001b[39m'\u001b[39m\u001b[39msimcompounds.sdf\u001b[39m\u001b[39m'\u001b[39m)) \u001b[39mas\u001b[39;00m suppl:\n\u001b[1;32m      2\u001b[0m     \u001b[39mfor\u001b[39;00m i,mol \u001b[39min\u001b[39;00m \u001b[39menumerate\u001b[39m(suppl):\n\u001b[1;32m      3\u001b[0m         \u001b[39mif\u001b[39;00m mol \u001b[39mis\u001b[39;00m \u001b[39mNone\u001b[39;00m: \n",
      "\u001b[0;31mNameError\u001b[0m: name 'os' is not defined"
     ]
    }
   ],
   "source": [
    "with Chem.SDMolSupplier(os.path.join(DATAPATH, 'simcompounds.sdf')) as suppl:\n",
    "    for i,mol in enumerate(suppl):\n",
    "        if mol is None: \n",
    "            print(i)\n",
    "        print(mol.GetNumAtoms())"
   ]
  },
  {
   "attachments": {},
   "cell_type": "markdown",
   "metadata": {},
   "source": [
    "This tests whether the file was written correctly before working with it. This is called a context manager."
   ]
  },
  {
   "cell_type": "code",
   "execution_count": null,
   "metadata": {},
   "outputs": [],
   "source": [
    "i = 0\n",
    "with Chem.MultithreadedSmilesMolSupplier('/home/lyndenrooms/Ersilia_Collab_2023/Compound_lists/similaritycompounds.smi') as simsmiles:\n",
    "    for mol in simsmiles:\n",
    "        if mol is not None:\n",
    "            i = i+1\n",
    "print(i)"
   ]
  },
  {
   "cell_type": "code",
   "execution_count": null,
   "metadata": {},
   "outputs": [],
   "source": [
    "mols = Chem.MultithreadedSmilesMolSupplier(os.path.join(DATAPATH, \"simcompounds.sdf\"))\n",
    "i = 0\n",
    "for i,mol in enumerate(mols):\n",
    "    i +=1\n",
    "\n",
    "print(i)"
   ]
  },
  {
   "cell_type": "code",
   "execution_count": 1,
   "metadata": {},
   "outputs": [],
   "source": [
    "smiles_list = []\n",
    "with open('/home/lyndenrooms/Ersilia_Collab_2023/Compound_lists/similaritycompounds.smi', 'r') as f:\n",
    "    for l in f:\n",
    "        l = l.strip('\\n')\n",
    "        smiles_list += [l]"
   ]
  },
  {
   "cell_type": "code",
   "execution_count": 6,
   "metadata": {},
   "outputs": [],
   "source": [
    "for smi in smiles_list:\n",
    "    mol = Chem.MolFromSmiles(smi)"
   ]
  },
  {
   "attachments": {},
   "cell_type": "markdown",
   "metadata": {},
   "source": [
    "The above is for reading smiles files, and there is a similar command for reading SDF files that contain a large amount of data. This is called a multi-thread supplier, in which one supplier extracts the records and another processes them.\n",
    "\n",
    "The above **FAILED**. I will use a different method to open smiles files..."
   ]
  },
  {
   "attachments": {},
   "cell_type": "markdown",
   "metadata": {},
   "source": [
    "## Reading PDB Data \n",
    "\n",
    "Here, the data will be read from a file, as large macromolecules contain a lot of information in the PDB file. It is also not very informative to display the marcromolecule here."
   ]
  },
  {
   "cell_type": "code",
   "execution_count": 7,
   "metadata": {},
   "outputs": [
    {
     "data": {
      "text/plain": [
       "3669"
      ]
     },
     "execution_count": 7,
     "metadata": {},
     "output_type": "execute_result"
    }
   ],
   "source": [
    "pabb = Chem.MolFromPDBFile('/home/lyndenrooms/Ersilia_Collab_2023/VS_code/Bs_PabB_chainA.pdb')\n",
    "pabb.GetNumAtoms()"
   ]
  },
  {
   "cell_type": "code",
   "execution_count": 8,
   "metadata": {},
   "outputs": [
    {
     "data": {
      "text/plain": [
       "[(3, 'GLN'),\n",
       " (3, 'GLN'),\n",
       " (3, 'GLN'),\n",
       " (3, 'GLN'),\n",
       " (3, 'GLN'),\n",
       " (3, 'GLN'),\n",
       " (3, 'GLN'),\n",
       " (3, 'GLN'),\n",
       " (3, 'GLN'),\n",
       " (4, 'ARG'),\n",
       " (4, 'ARG'),\n",
       " (4, 'ARG'),\n",
       " (4, 'ARG'),\n",
       " (4, 'ARG'),\n",
       " (4, 'ARG'),\n",
       " (4, 'ARG'),\n",
       " (4, 'ARG'),\n",
       " (4, 'ARG'),\n",
       " (4, 'ARG'),\n",
       " (4, 'ARG')]"
      ]
     },
     "execution_count": 8,
     "metadata": {},
     "output_type": "execute_result"
    }
   ],
   "source": [
    "# get the residue information for each atom:\n",
    "residues = [atom.GetPDBResidueInfo() for atom in pabb.GetAtoms()]\n",
    "# and now the number and name of each residue\n",
    "resinf = [(res.GetResidueNumber(),res.GetResidueName()) for res in residues]\n",
    "# take a look at the first 20 of those:\n",
    "resinf[:20]"
   ]
  },
  {
   "cell_type": "code",
   "execution_count": 9,
   "metadata": {},
   "outputs": [
    {
     "data": {
      "text/plain": [
       "458"
      ]
     },
     "execution_count": 9,
     "metadata": {},
     "output_type": "execute_result"
    }
   ],
   "source": [
    "# and get the ordered list of actual residues:\n",
    "residues = sorted(set(resinf))\n",
    "len(residues)"
   ]
  },
  {
   "cell_type": "code",
   "execution_count": 10,
   "metadata": {},
   "outputs": [
    {
     "data": {
      "text/plain": [
       "[(1, 'TRP'),\n",
       " (3, 'GLN'),\n",
       " (4, 'ARG'),\n",
       " (5, 'ARG'),\n",
       " (6, 'PRO'),\n",
       " (7, 'ALA'),\n",
       " (8, 'GLY'),\n",
       " (9, 'LYS'),\n",
       " (10, 'LYS'),\n",
       " (11, 'ILE')]"
      ]
     },
     "execution_count": 10,
     "metadata": {},
     "output_type": "execute_result"
    }
   ],
   "source": [
    "residues[:10]"
   ]
  },
  {
   "attachments": {},
   "cell_type": "markdown",
   "metadata": {},
   "source": [
    "Here, we can see 1) what residue each atom belongs to, 2) the total number of residues, and 3) the sequence. When [:10] is defined, this shows the first 10 of something, in this case residues. It is worth noting here that residue 2 is missing - some PDB files are incomplete due to the data collection process not allowing all of the atoms to be observed. Trp (here, residue 1) is also a heteroatom. Some prior knowledge of the PDB file and basic proteim biochemistry is beneficial in these cases, as here it looks as if only residue 2 is missing and residue 1 is a tryptophan, whereas actually residues 1 and 2 are missing, and residue 1 is methionine for all bacterial proteins."
   ]
  },
  {
   "attachments": {},
   "cell_type": "markdown",
   "metadata": {},
   "source": [
    "## Reading other sequence formats"
   ]
  },
  {
   "cell_type": "code",
   "execution_count": 36,
   "metadata": {},
   "outputs": [
    {
     "data": {
      "text/plain": [
       "327"
      ]
     },
     "execution_count": 36,
     "metadata": {},
     "output_type": "execute_result"
    }
   ],
   "source": [
    "seq = 'TTCCPSIVAR SNFNVCRLPG TPEAICATYT GCIIIPGATC PGDYAN'\n",
    "m = Chem.MolFromSequence(seq)\n",
    "m.GetNumAtoms()"
   ]
  },
  {
   "cell_type": "code",
   "execution_count": 37,
   "metadata": {},
   "outputs": [
    {
     "data": {
      "text/plain": [
       "327"
      ]
     },
     "execution_count": 37,
     "metadata": {},
     "output_type": "execute_result"
    }
   ],
   "source": [
    "helm = 'PEPTIDE1{T.T.C.C.P.S.I.V.A.R.S.N.F.N.V.C.R.L.P.G.T.P.E.A.I.C.A.T.Y.T.G.C.I.I.I.P.G.A.T.C.P.G.D.Y.A.N}$$$$'\n",
    "m = Chem.MolFromHELM(helm)\n",
    "m.GetNumAtoms()"
   ]
  },
  {
   "cell_type": "code",
   "execution_count": 38,
   "metadata": {},
   "outputs": [
    {
     "data": {
      "text/plain": [
       "327"
      ]
     },
     "execution_count": 38,
     "metadata": {},
     "output_type": "execute_result"
    }
   ],
   "source": [
    "fasta =\"\"\">\n",
    "TTCCPSIVARSNFNVCRLPGTPEAICATYTGCIIIPGATCPGDYAN\n",
    "\"\"\"\n",
    "m = Chem.MolFromFASTA(fasta)\n",
    "m.GetNumAtoms()"
   ]
  },
  {
   "attachments": {},
   "cell_type": "markdown",
   "metadata": {},
   "source": [
    "# Calculations and Transformations\n",
    "\n",
    "So far, the focus has been on the reading and writing of single and sets of molecules, and the writing of new file formats from smiles/molfiles etc. You may, however, want to perform calculations on the molecules, or generate 3D conformers from the 2D structures. This is what the next section will focus on."
   ]
  },
  {
   "cell_type": "code",
   "execution_count": 5,
   "metadata": {},
   "outputs": [],
   "source": [
    "# This is where charges can be added etc - code for this to be added."
   ]
  },
  {
   "attachments": {},
   "cell_type": "markdown",
   "metadata": {},
   "source": [
    "## 2D-3D Conversion\n",
    "\n",
    "Here, I am going to attempt to convert 2D smiles strings to 3D coords, contained within a molfile, and write this to a PDB file."
   ]
  },
  {
   "cell_type": "code",
   "execution_count": 4,
   "metadata": {},
   "outputs": [
    {
     "name": "stderr",
     "output_type": "stream",
     "text": [
      "/home/lyndenrooms/miniconda3/envs/docking-env/lib/python3.11/site-packages/tqdm/auto.py:22: TqdmWarning: IProgress not found. Please update jupyter and ipywidgets. See https://ipywidgets.readthedocs.io/en/stable/user_install.html\n",
      "  from .autonotebook import tqdm as notebook_tqdm\n"
     ]
    }
   ],
   "source": [
    "#Chem has been imported already - these are the other commands and libraries that are needed for the conversion.\n",
    "\n",
    "from rdkit.Chem import AllChem\n",
    "from rdkit.Chem.rdmolfiles import MolToPDBFile\n",
    "from rdkit.Chem.rdmolfiles import MolFromPDBFile\n",
    "from rdkit.Chem.rdMolDescriptors import CalcNumRotatableBonds\n",
    "\n",
    "from scipy.spatial import distance_matrix\n",
    "\n",
    "import MDAnalysis as mda\n",
    "\n",
    "# import os, os.path (this is kept as a comment for now, it was on JT's notebook, may be important for docking).\n",
    "\n",
    "import numpy as np\n",
    "import matplotlib.pyplot as plt"
   ]
  },
  {
   "attachments": {},
   "cell_type": "markdown",
   "metadata": {},
   "source": [
    "In the section below, I will attempt to generate a 3D conformer of abyssomicin C from the smiles string, before moving onto working with .csv files containing numerous smiles strings."
   ]
  },
  {
   "cell_type": "code",
   "execution_count": 5,
   "metadata": {},
   "outputs": [],
   "source": [
    "# Generate the molecule from the smiles string, add hydrogens and produce 3D coords via ETKDG method.\n",
    "\n",
    "c = Chem.MolFromSmiles('C[C@H]1C[C@@H](C)C(=O)C2=C3OC4[C@H](C)C[C@@]3(OC2=O)C(/C=C/C1=O)[C@H]4O')\n",
    "c = Chem.AddHs(c)\n",
    "AllChem.EmbedMolecule(c)\n",
    "\n",
    "# Ouput coords to pdb\n",
    "# This is what JT did: pdb_name = f\"{output_dir}/{ID}.pdb\"\n",
    " \n",
    "pdb_name = 'abyC3d.pdb'\n",
    "MolToPDBFile(c, \"/home/lyndenrooms/github/novel-pabb-inhibitors-eos/data/abyc/abyC3d.pdb\")\n",
    "\n",
    "# Note - I can also add in DATAPATH = xxx/data, and then just use this instead of the full pathname."
   ]
  },
  {
   "attachments": {},
   "cell_type": "markdown",
   "metadata": {},
   "source": [
    "Now, I will attempt to convert the 3D conformer into a charged .pdbqt file for docking."
   ]
  },
  {
   "cell_type": "code",
   "execution_count": 7,
   "metadata": {},
   "outputs": [
    {
     "name": "stdout",
     "output_type": "stream",
     "text": [
      "1 molecule converted\n",
      "1 molecule converted\n"
     ]
    }
   ],
   "source": [
    "pdb_name = '/home/lyndenrooms/github/novel-pabb-inhibitors-eos/data/abyc/abyC3d.pdb'\n",
    "pH = 7.4\n",
    "\n",
    "! obabel {pdb_name} -pH 7.4 -O /home/lyndenrooms/github/novel-pabb-inhibitors-eos/data/abyc/abyC3dcharge.pdb\n",
    "\n",
    "pdbqt_str = pdb_name + 'qt' \n",
    "! obabel {pdb_name} -pH {pH} -O {pdbqt_str}"
   ]
  },
  {
   "attachments": {},
   "cell_type": "markdown",
   "metadata": {},
   "source": [
    "The above .pdbqt file of abyssomicin C can now be used for docking!\n",
    "\n",
    "However, for the project I want to use multiple ligands, so the initial smiles input will be from a .csv file."
   ]
  },
  {
   "cell_type": "code",
   "execution_count": 15,
   "metadata": {},
   "outputs": [
    {
     "name": "stdout",
     "output_type": "stream",
     "text": [
      "/home/lyndenrooms/Ersilia_Collab_2023/novel-inhibitors-of-PabB-gh/data/sim29/smiles3.csv\n",
      "1 molecule converted\n",
      "1 molecule converted\n",
      "1 molecule converted\n",
      "1 molecule converted\n",
      "1 molecule converted\n",
      "1 molecule converted\n",
      "1 molecule converted\n",
      "1 molecule converted\n",
      "1 molecule converted\n",
      "1 molecule converted\n",
      "1 molecule converted\n",
      "1 molecule converted\n",
      "1 molecule converted\n",
      "1 molecule converted\n",
      "1 molecule converted\n",
      "1 molecule converted\n",
      "1 molecule converted\n",
      "1 molecule converted\n",
      "1 molecule converted\n",
      "1 molecule converted\n",
      "1 molecule converted\n",
      "1 molecule converted\n",
      "1 molecule converted\n",
      "1 molecule converted\n",
      "1 molecule converted\n",
      "1 molecule converted\n",
      "1 molecule converted\n",
      "1 molecule converted\n",
      "1 molecule converted\n",
      "1 molecule converted\n",
      "1 molecule converted\n",
      "1 molecule converted\n",
      "1 molecule converted\n",
      "1 molecule converted\n",
      "1 molecule converted\n",
      "1 molecule converted\n",
      "1 molecule converted\n",
      "1 molecule converted\n",
      "1 molecule converted\n",
      "1 molecule converted\n",
      "1 molecule converted\n",
      "1 molecule converted\n",
      "1 molecule converted\n",
      "1 molecule converted\n",
      "1 molecule converted\n",
      "1 molecule converted\n",
      "1 molecule converted\n",
      "1 molecule converted\n",
      "1 molecule converted\n",
      "1 molecule converted\n",
      "1 molecule converted\n",
      "1 molecule converted\n",
      "1 molecule converted\n",
      "1 molecule converted\n",
      "1 molecule converted\n",
      "1 molecule converted\n",
      "1 molecule converted\n",
      "1 molecule converted\n"
     ]
    }
   ],
   "source": [
    "# The code be has been copied from JT's notebook and edited for my filenames and paths.\n",
    "\n",
    "csv_file_name = '/home/lyndenrooms/Ersilia_Collab_2023/novel-inhibitors-of-PabB-gh/data/sim29/smiles3.csv' \n",
    "output_dir = '/home/lyndenrooms/Ersilia_Collab_2023/novel-inhibitors-of-PabB-gh/data/sim29'\n",
    "pH = 7.4\n",
    "header_len=1\n",
    "delim=','\n",
    "\n",
    "out_pdbqts = []\n",
    "    \n",
    "print(csv_file_name)\n",
    "    \n",
    "with open(csv_file_name, 'r') as csv:\n",
    "        \n",
    "        \n",
    "    for entry in csv.readlines()[header_len:]:\n",
    "            \n",
    "\n",
    "        Similarity, ID, SMILES = entry.split(delim)[:3]\n",
    "            \n",
    "        # Convert smiles str to 3D coordinates\n",
    "        mol = Chem.MolFromSmiles(SMILES)\n",
    "        mol = Chem.AddHs(mol)\n",
    "        AllChem.EmbedMolecule(mol)\n",
    "            \n",
    "    \n",
    "        # Ouput coords to pdb\n",
    "        pdb_name = f\"{output_dir}/{ID}.pdb\"\n",
    "        MolToPDBFile(mol, pdb_name)\n",
    "            \n",
    "#             print(pdb_name)\n",
    "            # Protonate according to pH\n",
    "        ! obabel {pdb_name} -pH {pH} -O {pdb_name}\n",
    "            \n",
    "            \n",
    "            # Also create a pdbqt for vina\n",
    "        pdbqt_str = pdb_name + 'qt'\n",
    "        ! obabel {pdb_name} -pH {pH} -O {pdbqt_str}\n",
    "            \n",
    "            \n",
    "        out_pdbqts.append(pdbqt_str)\n",
    "#             print()\n",
    "            \n"
   ]
  },
  {
   "attachments": {},
   "cell_type": "markdown",
   "metadata": {},
   "source": [
    "The above worked - I removed the 'return out_pdbqts' from JT's notebook, because I hadn't set a 'def prepare_ligands()' at the start. I think this would be better, as this wouldreturn the pdbqts as one file.\n",
    "\n",
    "I will try this now."
   ]
  },
  {
   "cell_type": "code",
   "execution_count": 12,
   "metadata": {},
   "outputs": [],
   "source": [
    "def prepare_ligands(csv_file_name='/home/lyndenrooms/Ersilia_Collab_2023/novel-inhibitors-of-PabB-gh/data/smiles3.csv',  pH=7.4, header_len=1, output_dir='/home/lyndenrooms/Ersilia_Collab_2023/novel-inhibitors-of-PabB-gh/data', delim=',') -> list:\n",
    "\n",
    " \n",
    "    out_pdbqts = []\n",
    "    \n",
    "    print(csv_file_name)\n",
    "    \n",
    "    with open(csv_file_name, 'r') as csv:\n",
    "        \n",
    "        \n",
    "        for entry in csv.readlines()[header_len:]:\n",
    "            \n",
    "\n",
    "            Similarity, ID, SMILES = entry.split(delim)[:3]\n",
    "            \n",
    "            # Convert smiles str to 3D coordinates\n",
    "            mol = Chem.MolFromSmiles(SMILES)\n",
    "            mol = Chem.AddHs(mol)\n",
    "            AllChem.EmbedMolecule(mol)\n",
    "            \n",
    "    \n",
    "            # Ouput coords to pdb\n",
    "            pdb_name = f\"{output_dir}/{ID}.pdb\"\n",
    "            MolToPDBFile(mol, pdb_name)\n",
    "            \n",
    "#             print(pdb_name)\n",
    "            # Protonate according to pH\n",
    "            ! obabel {pdb_name} -pH {pH} -O {pdb_name}\n",
    "            \n",
    "            \n",
    "            # Also create a pdbqt for vina\n",
    "            pdbqt_str = pdb_name + 'qt'\n",
    "            ! obabel {pdb_name} -pH {pH} -O {pdbqt_str}\n",
    "            \n",
    "            \n",
    "            out_pdbqts.append(pdbqt_str)\n",
    "#             print()\n",
    "            \n",
    "    return out_pdbqts\n",
    "        "
   ]
  },
  {
   "cell_type": "code",
   "execution_count": 14,
   "metadata": {},
   "outputs": [
    {
     "name": "stdout",
     "output_type": "stream",
     "text": [
      "/home/lyndenrooms/Ersilia_Collab_2023/novel-inhibitors-of-PabB-gh/data/smiles3.csv\n",
      "1 molecule converted\n",
      "1 molecule converted\n",
      "1 molecule converted\n",
      "1 molecule converted\n",
      "1 molecule converted\n",
      "1 molecule converted\n",
      "1 molecule converted\n",
      "1 molecule converted\n",
      "1 molecule converted\n",
      "1 molecule converted\n",
      "1 molecule converted\n",
      "1 molecule converted\n",
      "1 molecule converted\n",
      "1 molecule converted\n",
      "1 molecule converted\n",
      "1 molecule converted\n",
      "1 molecule converted\n",
      "1 molecule converted\n",
      "1 molecule converted\n",
      "1 molecule converted\n",
      "1 molecule converted\n",
      "1 molecule converted\n",
      "1 molecule converted\n",
      "1 molecule converted\n",
      "1 molecule converted\n",
      "1 molecule converted\n",
      "1 molecule converted\n",
      "1 molecule converted\n",
      "1 molecule converted\n",
      "1 molecule converted\n",
      "1 molecule converted\n",
      "1 molecule converted\n",
      "1 molecule converted\n",
      "1 molecule converted\n",
      "1 molecule converted\n",
      "1 molecule converted\n",
      "1 molecule converted\n",
      "1 molecule converted\n",
      "1 molecule converted\n",
      "1 molecule converted\n",
      "1 molecule converted\n",
      "1 molecule converted\n",
      "1 molecule converted\n",
      "1 molecule converted\n",
      "1 molecule converted\n",
      "1 molecule converted\n",
      "1 molecule converted\n",
      "1 molecule converted\n",
      "1 molecule converted\n",
      "1 molecule converted\n",
      "1 molecule converted\n",
      "1 molecule converted\n",
      "1 molecule converted\n",
      "1 molecule converted\n",
      "1 molecule converted\n",
      "1 molecule converted\n",
      "1 molecule converted\n",
      "1 molecule converted\n"
     ]
    }
   ],
   "source": [
    "sim29 = prepare_ligands('/home/lyndenrooms/Ersilia_Collab_2023/novel-inhibitors-of-PabB-gh/data/smiles3.csv', pH, output_dir='/home/lyndenrooms/Ersilia_Collab_2023/novel-inhibitors-of-PabB-gh/data/')"
   ]
  },
  {
   "attachments": {},
   "cell_type": "markdown",
   "metadata": {},
   "source": [
    "So, the above, whereby 'prepare_ligands' is specified, returns all of the pdbqt files separately. I think there is somewhere in smina where you can specificy the path, and get the software to dock all .pdbqt files - but I will have to check this when I look at the actual docking code!"
   ]
  },
  {
   "attachments": {},
   "cell_type": "markdown",
   "metadata": {},
   "source": [
    "The below attempts to generate .pdbqt files for all smiles in DrugBank."
   ]
  },
  {
   "cell_type": "code",
   "execution_count": 16,
   "metadata": {},
   "outputs": [
    {
     "name": "stdout",
     "output_type": "stream",
     "text": [
      "/home/lyndenrooms/Ersilia_Collab_2023/novel-inhibitors-of-PabB-gh/data/drugbankall/drugbankallsmiles.csv\n",
      "1 molecule converted\n",
      "1 molecule converted\n",
      "1 molecule converted\n",
      "1 molecule converted\n",
      "1 molecule converted\n",
      "1 molecule converted\n",
      "1 molecule converted\n",
      "1 molecule converted\n",
      "1 molecule converted\n",
      "1 molecule converted\n",
      "1 molecule converted\n",
      "1 molecule converted\n",
      "1 molecule converted\n",
      "1 molecule converted\n",
      "1 molecule converted\n",
      "1 molecule converted\n",
      "1 molecule converted\n",
      "1 molecule converted\n",
      "1 molecule converted\n",
      "1 molecule converted\n",
      "1 molecule converted\n",
      "1 molecule converted\n"
     ]
    },
    {
     "name": "stderr",
     "output_type": "stream",
     "text": [
      "[14:47:42] UFFTYPER: Unrecognized atom type: Co5+3 (45)\n"
     ]
    },
    {
     "name": "stdout",
     "output_type": "stream",
     "text": [
      "1 molecule converted\n",
      "1 molecule converted\n",
      "1 molecule converted\n",
      "1 molecule converted\n",
      "1 molecule converted\n",
      "1 molecule converted\n",
      "1 molecule converted\n"
     ]
    },
    {
     "name": "stderr",
     "output_type": "stream",
     "text": [
      "[14:47:48] UFFTYPER: Unrecognized charge state for atom: 1\n"
     ]
    },
    {
     "name": "stdout",
     "output_type": "stream",
     "text": [
      "1 molecule converted\n",
      "1 molecule converted\n",
      "1 molecule converted\n",
      "1 molecule converted\n",
      "1 molecule converted\n",
      "1 molecule converted\n",
      "1 molecule converted\n",
      "1 molecule converted\n",
      "1 molecule converted\n",
      "1 molecule converted\n",
      "1 molecule converted\n",
      "1 molecule converted\n",
      "1 molecule converted\n",
      "1 molecule converted\n",
      "1 molecule converted\n",
      "1 molecule converted\n",
      "1 molecule converted\n",
      "1 molecule converted\n",
      "1 molecule converted\n",
      "1 molecule converted\n",
      "1 molecule converted\n",
      "1 molecule converted\n",
      "1 molecule converted\n",
      "1 molecule converted\n",
      "1 molecule converted\n",
      "1 molecule converted\n",
      "1 molecule converted\n",
      "1 molecule converted\n",
      "1 molecule converted\n",
      "1 molecule converted\n",
      "1 molecule converted\n",
      "1 molecule converted\n",
      "1 molecule converted\n",
      "1 molecule converted\n",
      "1 molecule converted\n",
      "1 molecule converted\n",
      "1 molecule converted\n",
      "1 molecule converted\n",
      "1 molecule converted\n",
      "1 molecule converted\n",
      "1 molecule converted\n",
      "1 molecule converted\n",
      "1 molecule converted\n",
      "1 molecule converted\n",
      "1 molecule converted\n",
      "1 molecule converted\n",
      "1 molecule converted\n",
      "1 molecule converted\n",
      "1 molecule converted\n",
      "1 molecule converted\n",
      "1 molecule converted\n",
      "1 molecule converted\n",
      "1 molecule converted\n",
      "1 molecule converted\n",
      "1 molecule converted\n",
      "1 molecule converted\n",
      "1 molecule converted\n",
      "1 molecule converted\n",
      "1 molecule converted\n",
      "1 molecule converted\n",
      "1 molecule converted\n",
      "1 molecule converted\n",
      "1 molecule converted\n",
      "1 molecule converted\n",
      "1 molecule converted\n",
      "1 molecule converted\n",
      "1 molecule converted\n",
      "1 molecule converted\n",
      "1 molecule converted\n",
      "1 molecule converted\n",
      "1 molecule converted\n",
      "1 molecule converted\n",
      "1 molecule converted\n",
      "1 molecule converted\n",
      "1 molecule converted\n",
      "1 molecule converted\n",
      "1 molecule converted\n",
      "1 molecule converted\n",
      "1 molecule converted\n",
      "1 molecule converted\n",
      "1 molecule converted\n",
      "1 molecule converted\n",
      "1 molecule converted\n",
      "1 molecule converted\n",
      "1 molecule converted\n",
      "1 molecule converted\n",
      "1 molecule converted\n",
      "1 molecule converted\n",
      "1 molecule converted\n",
      "1 molecule converted\n",
      "1 molecule converted\n",
      "1 molecule converted\n",
      "1 molecule converted\n",
      "1 molecule converted\n",
      "1 molecule converted\n",
      "1 molecule converted\n",
      "1 molecule converted\n",
      "1 molecule converted\n",
      "1 molecule converted\n",
      "1 molecule converted\n",
      "1 molecule converted\n",
      "1 molecule converted\n",
      "1 molecule converted\n",
      "1 molecule converted\n",
      "1 molecule converted\n",
      "1 molecule converted\n",
      "1 molecule converted\n",
      "1 molecule converted\n",
      "1 molecule converted\n",
      "1 molecule converted\n",
      "1 molecule converted\n",
      "1 molecule converted\n",
      "1 molecule converted\n",
      "1 molecule converted\n",
      "1 molecule converted\n",
      "1 molecule converted\n",
      "1 molecule converted\n",
      "1 molecule converted\n",
      "1 molecule converted\n",
      "1 molecule converted\n",
      "1 molecule converted\n",
      "1 molecule converted\n",
      "1 molecule converted\n",
      "1 molecule converted\n",
      "1 molecule converted\n",
      "1 molecule converted\n",
      "1 molecule converted\n",
      "1 molecule converted\n",
      "1 molecule converted\n",
      "1 molecule converted\n",
      "1 molecule converted\n",
      "1 molecule converted\n",
      "1 molecule converted\n",
      "1 molecule converted\n",
      "1 molecule converted\n",
      "1 molecule converted\n",
      "1 molecule converted\n",
      "1 molecule converted\n",
      "1 molecule converted\n",
      "1 molecule converted\n",
      "1 molecule converted\n",
      "1 molecule converted\n",
      "1 molecule converted\n",
      "1 molecule converted\n",
      "1 molecule converted\n",
      "1 molecule converted\n",
      "1 molecule converted\n",
      "1 molecule converted\n",
      "1 molecule converted\n",
      "1 molecule converted\n",
      "1 molecule converted\n",
      "1 molecule converted\n",
      "1 molecule converted\n",
      "1 molecule converted\n",
      "1 molecule converted\n",
      "1 molecule converted\n",
      "1 molecule converted\n",
      "1 molecule converted\n",
      "1 molecule converted\n"
     ]
    },
    {
     "name": "stderr",
     "output_type": "stream",
     "text": [
      "[14:48:19] UFFTYPER: Unrecognized hybridization for atom: 1\n",
      "[14:48:19] UFFTYPER: Unrecognized atom type: Co+3 (1)\n"
     ]
    },
    {
     "name": "stdout",
     "output_type": "stream",
     "text": [
      "1 molecule converted\n",
      "1 molecule converted\n",
      "1 molecule converted\n",
      "1 molecule converted\n",
      "1 molecule converted\n",
      "1 molecule converted\n",
      "1 molecule converted\n",
      "1 molecule converted\n",
      "1 molecule converted\n",
      "1 molecule converted\n",
      "1 molecule converted\n",
      "1 molecule converted\n",
      "1 molecule converted\n",
      "1 molecule converted\n",
      "1 molecule converted\n",
      "1 molecule converted\n",
      "1 molecule converted\n",
      "1 molecule converted\n",
      "1 molecule converted\n",
      "1 molecule converted\n",
      "1 molecule converted\n",
      "1 molecule converted\n",
      "1 molecule converted\n",
      "1 molecule converted\n",
      "1 molecule converted\n",
      "1 molecule converted\n",
      "1 molecule converted\n",
      "1 molecule converted\n",
      "1 molecule converted\n",
      "1 molecule converted\n",
      "1 molecule converted\n",
      "1 molecule converted\n",
      "1 molecule converted\n",
      "1 molecule converted\n",
      "1 molecule converted\n",
      "1 molecule converted\n",
      "1 molecule converted\n",
      "1 molecule converted\n",
      "1 molecule converted\n",
      "1 molecule converted\n",
      "1 molecule converted\n",
      "1 molecule converted\n",
      "1 molecule converted\n",
      "1 molecule converted\n",
      "1 molecule converted\n",
      "1 molecule converted\n",
      "1 molecule converted\n",
      "1 molecule converted\n",
      "1 molecule converted\n",
      "1 molecule converted\n",
      "1 molecule converted\n"
     ]
    },
    {
     "name": "stderr",
     "output_type": "stream",
     "text": [
      "[14:49:30] UFFTYPER: Unrecognized charge state for atom: 0\n",
      "[14:49:30] UFFTYPER: Unrecognized atom type: Gd2+3 (0)\n"
     ]
    },
    {
     "name": "stdout",
     "output_type": "stream",
     "text": [
      "1 molecule converted\n",
      "1 molecule converted\n",
      "1 molecule converted\n",
      "1 molecule converted\n",
      "1 molecule converted\n",
      "1 molecule converted\n",
      "1 molecule converted\n",
      "1 molecule converted\n",
      "1 molecule converted\n",
      "1 molecule converted\n",
      "1 molecule converted\n",
      "1 molecule converted\n",
      "1 molecule converted\n",
      "1 molecule converted\n",
      "1 molecule converted\n",
      "1 molecule converted\n",
      "1 molecule converted\n",
      "1 molecule converted\n",
      "1 molecule converted\n",
      "1 molecule converted\n",
      "1 molecule converted\n",
      "1 molecule converted\n",
      "1 molecule converted\n",
      "1 molecule converted\n",
      "1 molecule converted\n",
      "1 molecule converted\n",
      "1 molecule converted\n",
      "1 molecule converted\n",
      "1 molecule converted\n",
      "1 molecule converted\n",
      "1 molecule converted\n",
      "1 molecule converted\n",
      "1 molecule converted\n",
      "1 molecule converted\n",
      "1 molecule converted\n",
      "1 molecule converted\n",
      "1 molecule converted\n",
      "1 molecule converted\n",
      "1 molecule converted\n",
      "1 molecule converted\n",
      "1 molecule converted\n",
      "1 molecule converted\n",
      "1 molecule converted\n",
      "1 molecule converted\n",
      "1 molecule converted\n",
      "1 molecule converted\n",
      "1 molecule converted\n",
      "1 molecule converted\n",
      "1 molecule converted\n",
      "1 molecule converted\n",
      "1 molecule converted\n",
      "1 molecule converted\n",
      "1 molecule converted\n",
      "1 molecule converted\n",
      "1 molecule converted\n",
      "1 molecule converted\n",
      "1 molecule converted\n",
      "1 molecule converted\n",
      "1 molecule converted\n",
      "1 molecule converted\n",
      "1 molecule converted\n",
      "1 molecule converted\n",
      "1 molecule converted\n",
      "1 molecule converted\n",
      "1 molecule converted\n",
      "1 molecule converted\n"
     ]
    },
    {
     "name": "stderr",
     "output_type": "stream",
     "text": [
      "[14:49:43] UFFTYPER: Unrecognized atom type: Ca+2 (0)\n"
     ]
    },
    {
     "name": "stdout",
     "output_type": "stream",
     "text": [
      "1 molecule converted\n",
      "1 molecule converted\n",
      "1 molecule converted\n",
      "1 molecule converted\n",
      "1 molecule converted\n",
      "1 molecule converted\n",
      "1 molecule converted\n",
      "1 molecule converted\n",
      "1 molecule converted\n",
      "1 molecule converted\n",
      "1 molecule converted\n",
      "1 molecule converted\n",
      "1 molecule converted\n",
      "1 molecule converted\n",
      "1 molecule converted\n",
      "1 molecule converted\n",
      "1 molecule converted\n",
      "1 molecule converted\n",
      "1 molecule converted\n",
      "1 molecule converted\n",
      "1 molecule converted\n",
      "1 molecule converted\n",
      "1 molecule converted\n",
      "1 molecule converted\n",
      "1 molecule converted\n",
      "1 molecule converted\n",
      "1 molecule converted\n",
      "1 molecule converted\n",
      "1 molecule converted\n",
      "1 molecule converted\n",
      "1 molecule converted\n",
      "1 molecule converted\n",
      "1 molecule converted\n",
      "1 molecule converted\n",
      "1 molecule converted\n",
      "1 molecule converted\n",
      "1 molecule converted\n",
      "1 molecule converted\n",
      "1 molecule converted\n",
      "1 molecule converted\n",
      "1 molecule converted\n",
      "1 molecule converted\n",
      "1 molecule converted\n",
      "1 molecule converted\n",
      "1 molecule converted\n",
      "1 molecule converted\n",
      "1 molecule converted\n",
      "1 molecule converted\n",
      "1 molecule converted\n",
      "1 molecule converted\n",
      "1 molecule converted\n",
      "1 molecule converted\n",
      "1 molecule converted\n",
      "1 molecule converted\n",
      "1 molecule converted\n"
     ]
    },
    {
     "name": "stderr",
     "output_type": "stream",
     "text": [
      "[14:49:53] SMILES Parse Error: syntax error while parsing: \n",
      "[14:49:53] SMILES Parse Error: Failed parsing SMILES '\n",
      "' for input: '\n",
      "'\n"
     ]
    },
    {
     "ename": "ArgumentError",
     "evalue": "Python argument types in\n    rdkit.Chem.rdmolops.AddHs(NoneType)\ndid not match C++ signature:\n    AddHs(RDKit::ROMol mol, bool explicitOnly=False, bool addCoords=False, boost::python::api::object onlyOnAtoms=None, bool addResidueInfo=False)",
     "output_type": "error",
     "traceback": [
      "\u001b[0;31m---------------------------------------------------------------------------\u001b[0m",
      "\u001b[0;31mArgumentError\u001b[0m                             Traceback (most recent call last)",
      "Cell \u001b[0;32mIn[16], line 23\u001b[0m\n\u001b[1;32m     21\u001b[0m \u001b[39m# Convert smiles str to 3D coordinates\u001b[39;00m\n\u001b[1;32m     22\u001b[0m mol \u001b[39m=\u001b[39m Chem\u001b[39m.\u001b[39mMolFromSmiles(SMILES)\n\u001b[0;32m---> 23\u001b[0m mol \u001b[39m=\u001b[39m Chem\u001b[39m.\u001b[39;49mAddHs(mol)\n\u001b[1;32m     24\u001b[0m AllChem\u001b[39m.\u001b[39mEmbedMolecule(mol)\n\u001b[1;32m     27\u001b[0m \u001b[39m# Ouput coords to pdb\u001b[39;00m\n",
      "\u001b[0;31mArgumentError\u001b[0m: Python argument types in\n    rdkit.Chem.rdmolops.AddHs(NoneType)\ndid not match C++ signature:\n    AddHs(RDKit::ROMol mol, bool explicitOnly=False, bool addCoords=False, boost::python::api::object onlyOnAtoms=None, bool addResidueInfo=False)"
     ]
    }
   ],
   "source": [
    "csv_file_name = '/home/lyndenrooms/Ersilia_Collab_2023/novel-inhibitors-of-PabB-gh/data/drugbankall/drugbankallsmiles.csv' \n",
    "output_dir = '/home/lyndenrooms/Ersilia_Collab_2023/novel-inhibitors-of-PabB-gh/data/drugbankall'\n",
    "pH = 7.4\n",
    "header_len=1\n",
    "delim=','\n",
    "\n",
    "out_pdbqts = []\n",
    "    \n",
    "print(csv_file_name)\n",
    "    \n",
    "with open(csv_file_name, 'r') as csv:\n",
    "        \n",
    "        \n",
    "    for entry in csv.readlines()[header_len:]:\n",
    "            \n",
    "\n",
    "        ID, Name, SMILES = entry.split(delim)[:3]\n",
    "            \n",
    "        # Convert smiles str to 3D coordinates\n",
    "        mol = Chem.MolFromSmiles(SMILES)\n",
    "        mol = Chem.AddHs(mol)\n",
    "        AllChem.EmbedMolecule(mol)\n",
    "            \n",
    "    \n",
    "        # Ouput coords to pdb\n",
    "        pdb_name = f\"{output_dir}/{ID}.pdb\"\n",
    "        MolToPDBFile(mol, pdb_name)\n",
    "            \n",
    "#             print(pdb_name)\n",
    "            # Protonate according to pH\n",
    "        ! obabel {pdb_name} -pH {pH} -O {pdb_name}\n",
    "            \n",
    "            \n",
    "            # Also create a pdbqt for vina\n",
    "        pdbqt_str = pdb_name + 'qt'\n",
    "        ! obabel {pdb_name} -pH {pH} -O {pdbqt_str}\n",
    "            \n",
    "            \n",
    "        out_pdbqts.append(pdbqt_str)\n",
    "#             print()\n",
    "            \n"
   ]
  }
 ],
 "metadata": {
  "kernelspec": {
   "display_name": "docking-env",
   "language": "python",
   "name": "python3"
  },
  "language_info": {
   "codemirror_mode": {
    "name": "ipython",
    "version": 3
   },
   "file_extension": ".py",
   "mimetype": "text/x-python",
   "name": "python",
   "nbconvert_exporter": "python",
   "pygments_lexer": "ipython3",
   "version": "3.11.0"
  },
  "orig_nbformat": 4,
  "vscode": {
   "interpreter": {
    "hash": "aee79467f0523a878d549cf4627c458824828dca884c1704f3ac6c768c472d97"
   }
  }
 },
 "nbformat": 4,
 "nbformat_minor": 2
}
