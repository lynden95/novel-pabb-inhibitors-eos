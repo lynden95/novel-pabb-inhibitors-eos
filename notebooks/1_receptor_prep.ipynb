{
 "cells": [
  {
   "attachments": {},
   "cell_type": "markdown",
   "metadata": {},
   "source": [
    "#Preparation of target protein\n",
    "\n",
    "This notebook will contain the code necessary to prepare the tagret protein, in this case *Bacillus subtilis* PabB (aminodeoxychorismate synthase component 1), for high-thorughput  docking with smina."
   ]
  }
 ],
 "metadata": {
  "kernelspec": {
   "display_name": "my-rdkit-env",
   "language": "python",
   "name": "python3"
  },
  "language_info": {
   "name": "python",
   "version": "3.10.9"
  },
  "orig_nbformat": 4,
  "vscode": {
   "interpreter": {
    "hash": "1c7ab7c06b27f6e9956762995b39e2a2451fc43349f62274cab3f74c349c93b1"
   }
  }
 },
 "nbformat": 4,
 "nbformat_minor": 2
}
