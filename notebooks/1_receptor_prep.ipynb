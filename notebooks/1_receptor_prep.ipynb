{
 "cells": [
  {
   "attachments": {},
   "cell_type": "markdown",
   "metadata": {},
   "source": [
    "# Preparation of target protein\n",
    "\n",
    "This notebook will contain the code necessary to prepare the tagret protein, in this case *Bacillus subtilis* PabB (aminodeoxychorismate synthase component 1), for high-thorughput  docking with smina."
   ]
  },
  {
   "attachments": {},
   "cell_type": "markdown",
   "metadata": {},
   "source": [
    "## Receptor prep in ADTools 1.5.7\n",
    "\n",
    "- Missing loops are rebuilt by DS in Bristol using AlphaFold as a template\n",
    "- CHO (docked ligand) and trp (allosteric ligand) are removed from PDB file \n",
    "- Open ADTools\n",
    "- File, preferences, set, set startup directory - wsl/ubunutu.../data/protein\n",
    "- Protein loaded into ADTools - grid, macromolecule, open, files=all types, open pabb.pdb -- the non polar hydrogens are merged automatically, pabb_model1.pdbqt saved\n",
    "- Mg will have zero charge - add charge in text editor (+2)\n",
    "- .pdbqt file ready now for docking\n"
   ]
  },
  {
   "cell_type": "markdown",
   "metadata": {},
   "source": []
  }
 ],
 "metadata": {
  "kernelspec": {
   "display_name": "docking-env",
   "language": "python",
   "name": "python3"
  },
  "language_info": {
   "name": "python",
   "version": "3.11.0"
  },
  "orig_nbformat": 4,
  "vscode": {
   "interpreter": {
    "hash": "aee79467f0523a878d549cf4627c458824828dca884c1704f3ac6c768c472d97"
   }
  }
 },
 "nbformat": 4,
 "nbformat_minor": 2
}
