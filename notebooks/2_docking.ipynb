{
 "cells": [
  {
   "attachments": {},
   "cell_type": "markdown",
   "metadata": {},
   "source": [
    "# Ligand Selection and Preparation, Docking and Analysis\n",
    "\n",
    "This notebook contains the code necessary to; prepare the ligands for docking, run docking in smina, and analyse the results of the docking."
   ]
  },
  {
   "attachments": {},
   "cell_type": "markdown",
   "metadata": {},
   "source": [
    "## Ligand Selection\n",
    "\n",
    "Ligand selection step involves;\n",
    "\n",
    "- Identification of ligands (from generative model, DB's, etc) and extraction as smiles strings\n",
    "- Filtering of ligands (based on pharmacophor matching score, eos models, synthetic likelihood, etc)"
   ]
  },
  {
   "attachments": {},
   "cell_type": "markdown",
   "metadata": {},
   "source": [
    "## Ligand Preparation\n",
    "\n",
    "- Conversion of smiles strings to 3D conformers using RDKIT \n",
    "- Protonation at a specific pH (7.4) and conversion to .pdbqt via obabel"
   ]
  },
  {
   "cell_type": "code",
   "execution_count": 2,
   "metadata": {},
   "outputs": [],
   "source": [
    "# Ensure docking-env is activated as kernel.\n",
    "\n",
    "# Import all libraries that are required.\n",
    "\n",
    "from rdkit import Chem\n",
    "from rdkit.Chem import AllChem\n",
    "from rdkit.Chem.rdmolfiles import MolToPDBFile\n"
   ]
  },
  {
   "cell_type": "code",
   "execution_count": 3,
   "metadata": {},
   "outputs": [],
   "source": [
    "import os\n",
    "\n",
    "DATAPATH = '../data'\n",
    "RESULTSPATH = '../results'"
   ]
  },
  {
   "cell_type": "code",
   "execution_count": 4,
   "metadata": {},
   "outputs": [],
   "source": [
    "# Update doc string\n",
    "def prepare_ligands(csv_file_name,  pH, header_len=1, output_dir='', delim=',') -> list:\n",
    "\n",
    "    \"\"\"\n",
    "    Takes a csv file of smiles, generates 3D coordinates,\n",
    "    protonates for a specific pH, and outputs a pdbqt file \n",
    "    for each of the compounds therein. \n",
    "\n",
    "      \n",
    "    csv_file_name (str): File path to a csv file containing the smiles input, among other information.\n",
    "    \n",
    "    header_len (int): num of rows to skip in the csv file.\n",
    "    \n",
    "    pH (float): pH that the compounds will be protonated at.\n",
    "    \n",
    "    output_dir (str): str appended to the produced file name so output files can be conveniently stored in an\n",
    "                        output directory\n",
    "    \n",
    "    delim (str): delimeter used in the csv file\n",
    "\n",
    "        \n",
    "    returns: list of strs of the produced pdbqt file's paths.\n",
    "    \n",
    "    \"\"\"\n",
    "    \n",
    "    out_pdbqts = [] # Creates an empty list to fill.\n",
    "    \n",
    "    print(csv_file_name)\n",
    "    \n",
    "    with open(csv_file_name, 'r') as csv: \n",
    "        \n",
    "        \n",
    "        for entry in csv.readlines()[header_len:]:\n",
    "            \n",
    "            Similarity, ID, SMILES = entry.split(delim)[:3]  #Note that this must be changed depending on the headings in the .csv file.\n",
    "            \n",
    "            # Convert smiles str to 3D coordinates\n",
    "            mol = Chem.MolFromSmiles(SMILES)\n",
    "            mol = Chem.AddHs(mol)\n",
    "            AllChem.EmbedMolecule(mol)\n",
    "            \n",
    "    \n",
    "            # Ouput coords to pdb\n",
    "            pdb_name = f\"{output_dir}/{ID}.pdb\"\n",
    "            MolToPDBFile(mol, pdb_name)\n",
    "            \n",
    "#             print(pdb_name)\n",
    "            # Protonate according to pH\n",
    "            ! obabel {pdb_name} -pH {pH} -O {pdb_name}\n",
    "            \n",
    "            \n",
    "            # Also create a pdbqt for vina\n",
    "            pdbqt_str = pdb_name + 'qt'\n",
    "            ! obabel {pdb_name} -pH {pH} -O {pdbqt_str}\n",
    "            \n",
    "            \n",
    "            out_pdbqts.append(pdbqt_str)\n",
    "#             print()\n",
    "            \n",
    "    return out_pdbqts\n",
    "        \n",
    "        \n",
    "        "
   ]
  },
  {
   "cell_type": "code",
   "execution_count": 5,
   "metadata": {},
   "outputs": [],
   "source": [
    "pH = 7.5"
   ]
  },
  {
   "cell_type": "code",
   "execution_count": 6,
   "metadata": {},
   "outputs": [
    {
     "name": "stdout",
     "output_type": "stream",
     "text": [
      "myfile\n"
     ]
    },
    {
     "ename": "FileNotFoundError",
     "evalue": "[Errno 2] No such file or directory: 'myfile'",
     "output_type": "error",
     "traceback": [
      "\u001b[0;31m---------------------------------------------------------------------------\u001b[0m",
      "\u001b[0;31mFileNotFoundError\u001b[0m                         Traceback (most recent call last)",
      "Cell \u001b[0;32mIn[6], line 3\u001b[0m\n\u001b[1;32m      1\u001b[0m myfile \u001b[39m=\u001b[39m os\u001b[39m.\u001b[39mpath\u001b[39m.\u001b[39mjoin(DATAPATH, \u001b[39m\"\u001b[39m\u001b[39msim29\u001b[39m\u001b[39m\"\u001b[39m, \u001b[39m\"\u001b[39m\u001b[39msmiles3.csv\u001b[39m\u001b[39m\"\u001b[39m)\n\u001b[0;32m----> 3\u001b[0m ligands \u001b[39m=\u001b[39m prepare_ligands(\u001b[39m'\u001b[39;49m\u001b[39mmyfile\u001b[39;49m\u001b[39m'\u001b[39;49m, pH, output_dir\u001b[39m=\u001b[39;49m\u001b[39m'\u001b[39;49m\u001b[39mdata/\u001b[39;49m\u001b[39m'\u001b[39;49m)\n",
      "Cell \u001b[0;32mIn[4], line 30\u001b[0m, in \u001b[0;36mprepare_ligands\u001b[0;34m(csv_file_name, pH, header_len, output_dir, delim)\u001b[0m\n\u001b[1;32m     26\u001b[0m out_pdbqts \u001b[39m=\u001b[39m [] \u001b[39m# Creates an empty list to fill.\u001b[39;00m\n\u001b[1;32m     28\u001b[0m \u001b[39mprint\u001b[39m(csv_file_name)\n\u001b[0;32m---> 30\u001b[0m \u001b[39mwith\u001b[39;00m \u001b[39mopen\u001b[39;49m(csv_file_name, \u001b[39m'\u001b[39;49m\u001b[39mr\u001b[39;49m\u001b[39m'\u001b[39;49m) \u001b[39mas\u001b[39;00m csv: \n\u001b[1;32m     33\u001b[0m     \u001b[39mfor\u001b[39;00m entry \u001b[39min\u001b[39;00m csv\u001b[39m.\u001b[39mreadlines()[header_len:]:\n\u001b[1;32m     35\u001b[0m         Similarity, ID, SMILES \u001b[39m=\u001b[39m entry\u001b[39m.\u001b[39msplit(delim)[:\u001b[39m3\u001b[39m]  \u001b[39m#Note that this must be changed depending on the headings in the .csv file.\u001b[39;00m\n",
      "File \u001b[0;32m~/miniconda3/envs/docking-env/lib/python3.11/site-packages/IPython/core/interactiveshell.py:282\u001b[0m, in \u001b[0;36m_modified_open\u001b[0;34m(file, *args, **kwargs)\u001b[0m\n\u001b[1;32m    275\u001b[0m \u001b[39mif\u001b[39;00m file \u001b[39min\u001b[39;00m {\u001b[39m0\u001b[39m, \u001b[39m1\u001b[39m, \u001b[39m2\u001b[39m}:\n\u001b[1;32m    276\u001b[0m     \u001b[39mraise\u001b[39;00m \u001b[39mValueError\u001b[39;00m(\n\u001b[1;32m    277\u001b[0m         \u001b[39mf\u001b[39m\u001b[39m\"\u001b[39m\u001b[39mIPython won\u001b[39m\u001b[39m'\u001b[39m\u001b[39mt let you open fd=\u001b[39m\u001b[39m{\u001b[39;00mfile\u001b[39m}\u001b[39;00m\u001b[39m by default \u001b[39m\u001b[39m\"\u001b[39m\n\u001b[1;32m    278\u001b[0m         \u001b[39m\"\u001b[39m\u001b[39mas it is likely to crash IPython. If you know what you are doing, \u001b[39m\u001b[39m\"\u001b[39m\n\u001b[1;32m    279\u001b[0m         \u001b[39m\"\u001b[39m\u001b[39myou can use builtins\u001b[39m\u001b[39m'\u001b[39m\u001b[39m open.\u001b[39m\u001b[39m\"\u001b[39m\n\u001b[1;32m    280\u001b[0m     )\n\u001b[0;32m--> 282\u001b[0m \u001b[39mreturn\u001b[39;00m io_open(file, \u001b[39m*\u001b[39;49margs, \u001b[39m*\u001b[39;49m\u001b[39m*\u001b[39;49mkwargs)\n",
      "\u001b[0;31mFileNotFoundError\u001b[0m: [Errno 2] No such file or directory: 'myfile'"
     ]
    }
   ],
   "source": [
    "myfile = os.path.join(DATAPATH, \"sim29\", \"smiles3.csv\")\n",
    "\n",
    "ligands = prepare_ligands('myfile', pH, output_dir='data/')\n",
    "\n",
    "# this hasn't worked - I will looks at this again tomorrow... the issue is being able to define csv file... I can do this, and it works, when working locally, but I can't define it for GH."
   ]
  }
 ],
 "metadata": {
  "kernelspec": {
   "display_name": "docking-env",
   "language": "python",
   "name": "python3"
  },
  "language_info": {
   "codemirror_mode": {
    "name": "ipython",
    "version": 3
   },
   "file_extension": ".py",
   "mimetype": "text/x-python",
   "name": "python",
   "nbconvert_exporter": "python",
   "pygments_lexer": "ipython3",
   "version": "3.11.0"
  },
  "orig_nbformat": 4,
  "vscode": {
   "interpreter": {
    "hash": "aee79467f0523a878d549cf4627c458824828dca884c1704f3ac6c768c472d97"
   }
  }
 },
 "nbformat": 4,
 "nbformat_minor": 2
}
